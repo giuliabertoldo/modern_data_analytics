{
 "cells": [
  {
   "cell_type": "markdown",
   "id": "b94931c2",
   "metadata": {},
   "source": [
    "# Py2neo\n",
    "pu2neo us one of the Neo4j's Python drivers. \n",
    "It offers a fully features interface for interacting with your data in Neo4j. Install py2neo with pip install py2neo"
   ]
  },
  {
   "cell_type": "code",
   "execution_count": 2,
   "id": "4ce7cbb8",
   "metadata": {},
   "outputs": [],
   "source": [
    "#!pip install py2neo"
   ]
  },
  {
   "cell_type": "code",
   "execution_count": 3,
   "id": "c9ebd419",
   "metadata": {},
   "outputs": [],
   "source": [
    "from py2neo import Graph\n",
    "from py2neo import Node\n",
    "from py2neo import Relationship"
   ]
  },
  {
   "cell_type": "markdown",
   "id": "9fd0d388",
   "metadata": {},
   "source": [
    "The three elements above allows the user to:\n",
    "* create nodes\n",
    "* create relationships\n",
    "* create a graph based on these relationships\n"
   ]
  },
  {
   "cell_type": "markdown",
   "id": "7e056b90",
   "metadata": {},
   "source": [
    "## Nodes and relationships \n",
    "Creating nodes / relationships in Python"
   ]
  },
  {
   "cell_type": "code",
   "execution_count": 6,
   "id": "13dc6410",
   "metadata": {},
   "outputs": [
    {
     "data": {
      "text/plain": [
       "KNOWS(Node('Person', name='Alice'), Node('Person', name='Bob'))"
      ]
     },
     "execution_count": 6,
     "metadata": {},
     "output_type": "execute_result"
    }
   ],
   "source": [
    "a = Node(\"Person\", name=\"Alice\")\n",
    "b = Node(\"Person\", name=\"Bob\")\n",
    "ab = Relationship (a, 'KNOWS', b)\n",
    "ab"
   ]
  },
  {
   "cell_type": "code",
   "execution_count": 7,
   "id": "8845483b",
   "metadata": {},
   "outputs": [
    {
     "data": {
      "text/plain": [
       "Node('Person', name='Alice')"
      ]
     },
     "execution_count": 7,
     "metadata": {},
     "output_type": "execute_result"
    }
   ],
   "source": [
    "a"
   ]
  },
  {
   "cell_type": "markdown",
   "id": "eec14975",
   "metadata": {},
   "source": [
    "## Connect to a database\n",
    "* Create a new (local) DBMS on using your Neo4j Desktop and assign it a password (in this case py2neo)\n",
    "* Start up the graph and wait till it is running\n",
    "* Once the graph is running, you can connect to the databse "
   ]
  },
  {
   "cell_type": "code",
   "execution_count": 9,
   "id": "2ae1e55f",
   "metadata": {},
   "outputs": [],
   "source": [
    "graph = Graph(password=\"py2neo\")"
   ]
  },
  {
   "cell_type": "markdown",
   "id": "f716673a",
   "metadata": {},
   "source": [
    "The nodes can now be added using the script below: "
   ]
  },
  {
   "cell_type": "code",
   "execution_count": 10,
   "id": "5afc32b3",
   "metadata": {},
   "outputs": [],
   "source": [
    "graph.create(a|b)"
   ]
  },
  {
   "cell_type": "markdown",
   "id": "43d461a7",
   "metadata": {},
   "source": [
    "The same holds for the relationship: "
   ]
  },
  {
   "cell_type": "code",
   "execution_count": 13,
   "id": "e2c079e2",
   "metadata": {},
   "outputs": [],
   "source": [
    "graph.create(ab)"
   ]
  },
  {
   "cell_type": "markdown",
   "id": "3ef35374",
   "metadata": {},
   "source": [
    "## Running queries\n",
    "In a first step let's add a couple of mor nodes and relationships"
   ]
  },
  {
   "cell_type": "code",
   "execution_count": 17,
   "id": "077ccdbe",
   "metadata": {},
   "outputs": [],
   "source": [
    "a = Node(\"Person\", name=\"Jan\", age=60)\n",
    "b = Node(\"Person\", name=\"Klara\", age=50)\n",
    "c = Node(\"Person\", name=\"Teo\", age=50)\n",
    "d = Node(\"Person\", name=\"Nicole\", age=41)\n",
    "graph.create (a | b | c | d)\n",
    "graph.create(Relationship (a, 'KNOWS', b))\n",
    "graph.create(Relationship (a, 'KNOWS', c))\n",
    "graph.create(Relationship (c, 'KNOWS', d))"
   ]
  },
  {
   "cell_type": "markdown",
   "id": "d215484d",
   "metadata": {},
   "source": [
    "Any cypher command can now be sent by Python and you can store results in Python. "
   ]
  },
  {
   "cell_type": "markdown",
   "id": "1e7554ec",
   "metadata": {},
   "source": [
    "Next, I am going to create a relationship that \"Nicole knows Alice\""
   ]
  },
  {
   "cell_type": "code",
   "execution_count": 25,
   "id": "c0ab3e02",
   "metadata": {},
   "outputs": [
    {
     "name": "stdout",
     "output_type": "stream",
     "text": [
      "Node('Person', age=41, name='Nicole')\tNode('Person', name='Alice')\n"
     ]
    }
   ],
   "source": [
    "query = \"\"\"\n",
    "MATCH(a:Person), (b:Person)\n",
    "WHERE a.name =$name_1 and b.name=$name_2 \n",
    "MERGE (a)-[:KNOWS]->(b)\n",
    "RETURN a,b\n",
    "\"\"\"\n",
    "\n",
    "# Run query\n",
    "data = graph.run(query, name_1=\"Nicole\", name_2=\"Alice\")\n",
    "for d in data:\n",
    "    print(d)"
   ]
  },
  {
   "cell_type": "markdown",
   "id": "d70a20d8",
   "metadata": {},
   "source": [
    "Youcan construct a query, which is a string and you can insert parameters in the query, e.g. $name_1, $name_2. "
   ]
  }
 ],
 "metadata": {
  "kernelspec": {
   "display_name": "Python 3 (ipykernel)",
   "language": "python",
   "name": "python3"
  },
  "language_info": {
   "codemirror_mode": {
    "name": "ipython",
    "version": 3
   },
   "file_extension": ".py",
   "mimetype": "text/x-python",
   "name": "python",
   "nbconvert_exporter": "python",
   "pygments_lexer": "ipython3",
   "version": "3.9.7"
  },
  "toc": {
   "base_numbering": 1,
   "nav_menu": {},
   "number_sections": true,
   "sideBar": true,
   "skip_h1_title": false,
   "title_cell": "Table of Contents",
   "title_sidebar": "Contents",
   "toc_cell": false,
   "toc_position": {},
   "toc_section_display": true,
   "toc_window_display": false
  }
 },
 "nbformat": 4,
 "nbformat_minor": 5
}
