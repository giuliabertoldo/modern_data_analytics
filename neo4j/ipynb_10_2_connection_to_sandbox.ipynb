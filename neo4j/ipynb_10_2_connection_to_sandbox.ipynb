{
 "cells": [
  {
   "cell_type": "markdown",
   "id": "33f3c739",
   "metadata": {},
   "source": [
    "# SandBox\n",
    "In this example we are going to connect to a SandBox environment which we setup. A Sandbox is only kept alive for 3 days after which the DB is removed (unless you renew it). \n",
    "\n",
    "Here we do not use py2neo, instead we use the official neo4j driver. "
   ]
  },
  {
   "cell_type": "code",
   "execution_count": null,
   "id": "cf4b9283",
   "metadata": {},
   "outputs": [],
   "source": [
    "#! pip install neo4j-driver"
   ]
  },
  {
   "cell_type": "code",
   "execution_count": null,
   "id": "e3fcad5d",
   "metadata": {},
   "outputs": [],
   "source": [
    "from neo4j import GraphDatabase, basic_auth"
   ]
  },
  {
   "cell_type": "markdown",
   "id": "8bf44fc9",
   "metadata": {},
   "source": [
    "Connecting to the Sandbox"
   ]
  },
  {
   "cell_type": "code",
   "execution_count": null,
   "id": "5930ca29",
   "metadata": {},
   "outputs": [],
   "source": [
    "driver = GraphDatabase.driver(\" <connection string sandbox>\", \n",
    "                              auth=basic_atuh(\"<username sandbox>\", \n",
    "                                              \"<password sandox>\"))"
   ]
  },
  {
   "cell_type": "markdown",
   "id": "a18a989b",
   "metadata": {},
   "source": [
    "Trying out the connection"
   ]
  },
  {
   "cell_type": "code",
   "execution_count": null,
   "id": "b8b4dea3",
   "metadata": {},
   "outputs": [],
   "source": [
    "cypher_query = '''\n",
    "Match (n:Source)\n",
    "return n.name\n",
    "'''"
   ]
  },
  {
   "cell_type": "code",
   "execution_count": null,
   "id": "e36afbd9",
   "metadata": {},
   "outputs": [],
   "source": [
    "with driver.session(database=\"<username sandbox>\") as session: \n",
    "    results = session.read_transaction(lambda tx: tx.run(cypher_query).data())\n",
    "    for record in results:\n",
    "        print(record)\n",
    "driver.close()"
   ]
  },
  {
   "cell_type": "markdown",
   "id": "c4154710",
   "metadata": {},
   "source": [
    "The code above:\n",
    "* open the session\n",
    "* in the session perform the query (tx.run(cypher_query)\n",
    "* read the results"
   ]
  },
  {
   "cell_type": "markdown",
   "id": "c73d9122",
   "metadata": {},
   "source": [
    "Running a more complete script, where a parameter (screenName) is assigned to the Cypher code. "
   ]
  },
  {
   "cell_type": "code",
   "execution_count": null,
   "id": "9b5c7985",
   "metadata": {},
   "outputs": [],
   "source": [
    "cypher_query = '''\n",
    "MATCH(u:User {screen_name: $screenName})<-[r:MENTIONS]-(t:Tweet)-[r2:TAGS]->(H:Hashtag)\n",
    "RETURN h.name as hashtag \n",
    "'''\n",
    "\n",
    "with driver.session(database=\"neo4j\") as session: \n",
    "    results = session.read_transaction(lambda tx: tx.run(cypher_query, \n",
    "                                                         screenName=\"Seqvoia_\".data()))\n",
    "    for record in results:\n",
    "        print(record('hashtag'))\n",
    "driver.close()"
   ]
  },
  {
   "cell_type": "markdown",
   "id": "f102b359",
   "metadata": {},
   "source": []
  }
 ],
 "metadata": {
  "kernelspec": {
   "display_name": "Python 3 (ipykernel)",
   "language": "python",
   "name": "python3"
  },
  "language_info": {
   "codemirror_mode": {
    "name": "ipython",
    "version": 3
   },
   "file_extension": ".py",
   "mimetype": "text/x-python",
   "name": "python",
   "nbconvert_exporter": "python",
   "pygments_lexer": "ipython3",
   "version": "3.9.7"
  },
  "toc": {
   "base_numbering": 1,
   "nav_menu": {},
   "number_sections": true,
   "sideBar": true,
   "skip_h1_title": false,
   "title_cell": "Table of Contents",
   "title_sidebar": "Contents",
   "toc_cell": false,
   "toc_position": {},
   "toc_section_display": true,
   "toc_window_display": false
  }
 },
 "nbformat": 4,
 "nbformat_minor": 5
}
